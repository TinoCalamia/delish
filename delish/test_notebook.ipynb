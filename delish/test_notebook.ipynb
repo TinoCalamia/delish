{
 "cells": [
  {
   "cell_type": "code",
   "execution_count": 1,
   "metadata": {},
   "outputs": [],
   "source": [
    "import pandas as pd"
   ]
  },
  {
   "cell_type": "code",
   "execution_count": 3,
   "metadata": {},
   "outputs": [],
   "source": [
    "\n",
    "\n",
    "# Define data\n",
    "data = {\n",
    "    'name': ['Wine A', 'Wine B', 'Wine C', 'Wine D', 'Wine E'],\n",
    "    'region': ['Region1', 'Region2', 'Region3', 'Region4', 'Region5'],\n",
    "    'grape': ['Grape1', 'Grape2', 'Grape3', 'Grape4', 'Grape5'],\n",
    "    'vintage': [2015, 2016, 2017, 2018, 2019],\n",
    "    'price': [10, 11, 15, 16, 50],\n",
    "    'acidity': [1, 2, 3, 4, 5],\n",
    "    'sweetness': [6, 7, 8, 9, 10],\n",
    "    'body': [10, 9, 8, 7, 6],\n",
    "    'tannins': [5, 4, 3, 2, 1],\n",
    "    'type': ['white', 'orange', 'red', 'sparkling', 'rose'],\n",
    "    'fruity': [1, 2, 3, 4, 5],\n",
    "    'funky': [5, 4, 3, 2, 1],\n",
    "    'quantity': [100, 200, 300, 400, 500],\n",
    "    'wine_id': [1, 2, 3, 4, 5],\n",
    "    'notes': ['Note1', 'Note2', 'Note3', 'Note4', 'Note5']\n",
    "}\n",
    "\n",
    "# Create DataFrame\n",
    "df = pd.DataFrame(data)\n",
    "\n",
    "# Print DataFrame\n",
    "df.to_csv('wine.csv', index=False)"
   ]
  },
  {
   "cell_type": "code",
   "execution_count": null,
   "metadata": {},
   "outputs": [],
   "source": []
  }
 ],
 "metadata": {
  "kernelspec": {
   "display_name": "Python 3",
   "language": "python",
   "name": "python3"
  },
  "language_info": {
   "codemirror_mode": {
    "name": "ipython",
    "version": 3
   },
   "file_extension": ".py",
   "mimetype": "text/x-python",
   "name": "python",
   "nbconvert_exporter": "python",
   "pygments_lexer": "ipython3",
   "version": "3.11.1"
  }
 },
 "nbformat": 4,
 "nbformat_minor": 2
}
